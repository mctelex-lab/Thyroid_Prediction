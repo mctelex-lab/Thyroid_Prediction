{
 "cells": [
  {
   "cell_type": "code",
   "execution_count": null,
   "id": "d268114f-f524-48ff-9d28-580e6bff8906",
   "metadata": {},
   "outputs": [
    {
     "name": "stdout",
     "output_type": "stream",
     "text": [
      " * Serving Flask app '__main__'\n",
      " * Debug mode: off\n"
     ]
    },
    {
     "name": "stderr",
     "output_type": "stream",
     "text": [
      "WARNING: This is a development server. Do not use it in a production deployment. Use a production WSGI server instead.\n",
      " * Running on http://127.0.0.1:5000\n",
      "Press CTRL+C to quit\n",
      "127.0.0.1 - - [17/Oct/2024 14:27:16] \"GET / HTTP/1.1\" 200 -\n",
      "127.0.0.1 - - [17/Oct/2024 14:27:16] \"GET /favicon.ico HTTP/1.1\" 404 -\n",
      "C:\\Users\\CSE\\anaconda3\\envs\\lexenv\\lib\\site-packages\\sklearn\\base.py:465: UserWarning: X does not have valid feature names, but AdaBoostClassifier was fitted with feature names\n",
      "  warnings.warn(\n",
      "127.0.0.1 - - [17/Oct/2024 14:27:37] \"POST /predict HTTP/1.1\" 500 -\n"
     ]
    },
    {
     "name": "stdout",
     "output_type": "stream",
     "text": [
      "Error: X has 5 features, but AdaBoostClassifier is expecting 29 features as input.\n"
     ]
    }
   ],
   "source": [
    "from flask import Flask, request, jsonify, render_template\n",
    "import pickle\n",
    "import numpy as np\n",
    "\n",
    "app = Flask(__name__)\n",
    "\n",
    "# Load the model once when the server starts\n",
    "with open('C:/Users/CSE/Desktop/Data/Thyroid/Implementation/AdaBoost_balanced_model.pkl', 'rb') as model_file:\n",
    "    ada_model = pickle.load(model_file)\n",
    "\n",
    "@app.route('/')\n",
    "def home():\n",
    "    return render_template('Tyroid.html')\n",
    "\n",
    "@app.route('/predict', methods=['POST'])\n",
    "def predict():\n",
    "    try:\n",
    "        data = request.get_json()\n",
    "\n",
    "        # Ensure all fields are available in the request\n",
    "        if not all(k in data for k in ('age', 'TT4', 'T4U', 'FTI', 'gender')):\n",
    "            return jsonify({'error': 'Missing feature inputs'}), 400\n",
    "\n",
    "        # Convert inputs into appropriate types\n",
    "        features = np.array([\n",
    "            float(data['age']),\n",
    "            float(data['TT4']),\n",
    "            float(data['T4U']),\n",
    "            float(data['FTI']),\n",
    "            int(data['gender'])\n",
    "        ]).reshape(1, -1)\n",
    "\n",
    "        # Make prediction using the AdaBoost model\n",
    "        prediction = ada_model.predict(features)[0]\n",
    "\n",
    "        # Return the prediction as JSON\n",
    "        return jsonify({'prediction': int(prediction)})\n",
    "    except Exception as e:\n",
    "        print(f\"Error: {e}\")\n",
    "        return jsonify({'error': 'An error occurred during prediction'}), 500\n",
    "\n",
    "if __name__ == '__main__':\n",
    "    app.run(debug=False)\n"
   ]
  },
  {
   "cell_type": "code",
   "execution_count": 3,
   "id": "3bd5778b-b1a5-449a-8220-9507772ee97e",
   "metadata": {},
   "outputs": [
    {
     "name": "stdout",
     "output_type": "stream",
     "text": [
      "Collecting Flask\n",
      "  Downloading flask-3.0.3-py3-none-any.whl.metadata (3.2 kB)\n",
      "Requirement already satisfied: Werkzeug>=3.0.0 in c:\\users\\cse\\anaconda3\\envs\\lexenv\\lib\\site-packages (from Flask) (3.0.1)\n",
      "Requirement already satisfied: Jinja2>=3.1.2 in c:\\users\\cse\\anaconda3\\envs\\lexenv\\lib\\site-packages (from Flask) (3.1.3)\n",
      "Collecting itsdangerous>=2.1.2 (from Flask)\n",
      "  Downloading itsdangerous-2.2.0-py3-none-any.whl.metadata (1.9 kB)\n",
      "Requirement already satisfied: click>=8.1.3 in c:\\users\\cse\\anaconda3\\envs\\lexenv\\lib\\site-packages (from Flask) (8.1.7)\n",
      "Collecting blinker>=1.6.2 (from Flask)\n",
      "  Downloading blinker-1.8.2-py3-none-any.whl.metadata (1.6 kB)\n",
      "Requirement already satisfied: importlib-metadata>=3.6.0 in c:\\users\\cse\\anaconda3\\envs\\lexenv\\lib\\site-packages (from Flask) (7.0.1)\n",
      "Requirement already satisfied: colorama in c:\\users\\cse\\anaconda3\\envs\\lexenv\\lib\\site-packages (from click>=8.1.3->Flask) (0.4.6)\n",
      "Requirement already satisfied: zipp>=0.5 in c:\\users\\cse\\anaconda3\\envs\\lexenv\\lib\\site-packages (from importlib-metadata>=3.6.0->Flask) (3.17.0)\n",
      "Requirement already satisfied: MarkupSafe>=2.0 in c:\\users\\cse\\anaconda3\\envs\\lexenv\\lib\\site-packages (from Jinja2>=3.1.2->Flask) (2.1.3)\n",
      "Downloading flask-3.0.3-py3-none-any.whl (101 kB)\n",
      "   ---------------------------------------- 0.0/101.7 kB ? eta -:--:--\n",
      "   ---- ----------------------------------- 10.2/101.7 kB ? eta -:--:--\n",
      "   ---- ----------------------------------- 10.2/101.7 kB ? eta -:--:--\n",
      "   ----------- --------------------------- 30.7/101.7 kB 435.7 kB/s eta 0:00:01\n",
      "   ----------------------- --------------- 61.4/101.7 kB 409.6 kB/s eta 0:00:01\n",
      "   ----------------------------------- --- 92.2/101.7 kB 438.1 kB/s eta 0:00:01\n",
      "   ----------------------------------- --- 92.2/101.7 kB 438.1 kB/s eta 0:00:01\n",
      "   -------------------------------------- 101.7/101.7 kB 345.3 kB/s eta 0:00:00\n",
      "Downloading blinker-1.8.2-py3-none-any.whl (9.5 kB)\n",
      "Downloading itsdangerous-2.2.0-py3-none-any.whl (16 kB)\n",
      "Installing collected packages: itsdangerous, blinker, Flask\n",
      "Successfully installed Flask-3.0.3 blinker-1.8.2 itsdangerous-2.2.0\n"
     ]
    },
    {
     "name": "stderr",
     "output_type": "stream",
     "text": [
      "WARNING: Ignoring invalid distribution -atplotlib (c:\\users\\cse\\anaconda3\\envs\\lexenv\\lib\\site-packages)\n",
      "WARNING: Ignoring invalid distribution -atplotlib (c:\\users\\cse\\anaconda3\\envs\\lexenv\\lib\\site-packages)\n"
     ]
    }
   ],
   "source": []
  },
  {
   "cell_type": "code",
   "execution_count": null,
   "id": "be30db7e-4ac6-45b0-b9dd-4bfb49969945",
   "metadata": {},
   "outputs": [],
   "source": []
  }
 ],
 "metadata": {
  "kernelspec": {
   "display_name": "Python 3 (ipykernel)",
   "language": "python",
   "name": "python3"
  },
  "language_info": {
   "codemirror_mode": {
    "name": "ipython",
    "version": 3
   },
   "file_extension": ".py",
   "mimetype": "text/x-python",
   "name": "python",
   "nbconvert_exporter": "python",
   "pygments_lexer": "ipython3",
   "version": "3.8.19"
  }
 },
 "nbformat": 4,
 "nbformat_minor": 5
}
